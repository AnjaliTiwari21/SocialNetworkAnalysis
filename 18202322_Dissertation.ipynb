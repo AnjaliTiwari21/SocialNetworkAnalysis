{
 "cells": [
  {
   "cell_type": "code",
   "execution_count": null,
   "metadata": {
    "collapsed": true
   },
   "outputs": [],
   "source": [
    "#Install Packages if not installed : Py2neo is used for making connection between neo4j and python while afinn is used for the sentimental anaylsis\n",
    "#!pip install py2neo\n",
    "#!pip install afinn"
   ]
  },
  {
   "cell_type": "code",
   "execution_count": 4,
   "metadata": {
    "collapsed": false
   },
   "outputs": [
    {
     "name": "stdout",
     "output_type": "stream",
     "text": [
      "Stage 1.Graph Initiation\n"
     ]
    },
    {
     "data": {
      "text/plain": [
       "<py2neo.database.Transaction at 0x1410eeb8>"
      ]
     },
     "execution_count": 4,
     "metadata": {},
     "output_type": "execute_result"
    }
   ],
   "source": [
    "#Importing the necessary libraries\n",
    "from py2neo import *\n",
    "from pandas import DataFrame\n",
    "import matplotlib.pyplot as plt\n",
    "%matplotlib inline\n",
    "from wordcloud import WordCloud, STOPWORDS, ImageColorGenerator\n",
    "from afinn import Afinn\n",
    "\n",
    "\n",
    "# instantiating Neo4j driver instance\n",
    "#twitter_troll_dataset = Graph(\"bolt://52.3.242.176:33673\", auth=(\"neo4j\",\"hush-nerve-stars\"))\n",
    "twitter_troll_dataset = Graph(\"bolt://54.85.153.239:35392\", auth=(\"neo4j\",\"inlets-hatchet-thursday\"))\n",
    "\n",
    "print(\"Stage 1.Graph Initiation\")\n",
    "\n",
    "twitter_troll_dataset.begin()\n"
   ]
  },
  {
   "cell_type": "markdown",
   "metadata": {
    "collapsed": false
   },
   "source": [
    "<b>EXPLORATORY DATA ANALYSIS<b>"
   ]
  },
  {
   "cell_type": "code",
   "execution_count": 5,
   "metadata": {
    "collapsed": false
   },
   "outputs": [
    {
     "data": {
      "text/html": [
       "<div>\n",
       "<table border=\"1\" class=\"dataframe\">\n",
       "  <thead>\n",
       "    <tr style=\"text-align: right;\">\n",
       "      <th></th>\n",
       "      <th>All_nodes</th>\n",
       "    </tr>\n",
       "  </thead>\n",
       "  <tbody>\n",
       "    <tr>\n",
       "      <th>0</th>\n",
       "      <td>281136</td>\n",
       "    </tr>\n",
       "  </tbody>\n",
       "</table>\n",
       "</div>"
      ],
      "text/plain": [
       "   All_nodes\n",
       "0     281136"
      ]
     },
     "execution_count": 5,
     "metadata": {},
     "output_type": "execute_result"
    }
   ],
   "source": [
    "#Total nodes present in the dataset\n",
    "DataFrame(twitter_troll_dataset.run(\"MATCH (n) return count(n) AS All_nodes\").data())"
   ]
  },
  {
   "cell_type": "code",
   "execution_count": 6,
   "metadata": {
    "collapsed": false
   },
   "outputs": [
    {
     "data": {
      "text/html": [
       "<div>\n",
       "<table border=\"1\" class=\"dataframe\">\n",
       "  <thead>\n",
       "    <tr style=\"text-align: right;\">\n",
       "      <th></th>\n",
       "      <th>Relationships</th>\n",
       "    </tr>\n",
       "  </thead>\n",
       "  <tbody>\n",
       "    <tr>\n",
       "      <th>0</th>\n",
       "      <td>493160</td>\n",
       "    </tr>\n",
       "  </tbody>\n",
       "</table>\n",
       "</div>"
      ],
      "text/plain": [
       "   Relationships\n",
       "0         493160"
      ]
     },
     "execution_count": 6,
     "metadata": {},
     "output_type": "execute_result"
    }
   ],
   "source": [
    "#Total edges/relationships present in the dataset\n",
    "DataFrame(twitter_troll_dataset.run(\"Match ()-[r]->() return count(*) as Relationships\").data())"
   ]
  },
  {
   "cell_type": "code",
   "execution_count": 7,
   "metadata": {
    "collapsed": false
   },
   "outputs": [
    {
     "data": {
      "text/html": [
       "<div>\n",
       "<table border=\"1\" class=\"dataframe\">\n",
       "  <thead>\n",
       "    <tr style=\"text-align: right;\">\n",
       "      <th></th>\n",
       "      <th>Label</th>\n",
       "      <th>Records</th>\n",
       "    </tr>\n",
       "  </thead>\n",
       "  <tbody>\n",
       "    <tr>\n",
       "      <th>0</th>\n",
       "      <td>User</td>\n",
       "      <td>14273</td>\n",
       "    </tr>\n",
       "    <tr>\n",
       "      <th>1</th>\n",
       "      <td>Tweet</td>\n",
       "      <td>232061</td>\n",
       "    </tr>\n",
       "    <tr>\n",
       "      <th>2</th>\n",
       "      <td>Source</td>\n",
       "      <td>18</td>\n",
       "    </tr>\n",
       "    <tr>\n",
       "      <th>3</th>\n",
       "      <td>URL</td>\n",
       "      <td>21865</td>\n",
       "    </tr>\n",
       "    <tr>\n",
       "      <th>4</th>\n",
       "      <td>Hashtag</td>\n",
       "      <td>12919</td>\n",
       "    </tr>\n",
       "  </tbody>\n",
       "</table>\n",
       "</div>"
      ],
      "text/plain": [
       "     Label  Records\n",
       "0     User    14273\n",
       "1    Tweet   232061\n",
       "2   Source       18\n",
       "3      URL    21865\n",
       "4  Hashtag    12919"
      ]
     },
     "execution_count": 7,
     "metadata": {},
     "output_type": "execute_result"
    }
   ],
   "source": [
    "# To load all the label and its count present in the dataset\n",
    "dataset_nodes=DataFrame(twitter_troll_dataset.run(\"match (n) return head(labels(n)) as Label, count(*) as Records\").data())\n",
    "dataset_nodes"
   ]
  },
  {
   "cell_type": "code",
   "execution_count": 8,
   "metadata": {
    "collapsed": false
   },
   "outputs": [
    {
     "data": {
      "image/png": "[encoded data removed]",
      "text/plain": [
       "<matplotlib.figure.Figure at 0x153c27b8>"
      ]
     },
     "metadata": {},
     "output_type": "display_data"
    }
   ],
   "source": [
    "#Visualizing the Nodes and its total counts\n",
    "import seaborn as sns\n",
    "#t.plot.bar(x='Label',y='Records')\n",
    "plt.figure(figsize=(10,5))\n",
    "ax = sns.barplot(data=dataset_nodes, x= \"Label\", y = \"Records\")\n",
    "ax.set(ylabel = 'Total_Records')\n",
    "plt.show()"
   ]
  },
  {
   "cell_type": "code",
   "execution_count": 9,
   "metadata": {
    "collapsed": false
   },
   "outputs": [
    {
     "data": {
      "text/html": [
       "<div>\n",
       "<table border=\"1\" class=\"dataframe\">\n",
       "  <thead>\n",
       "    <tr style=\"text-align: right;\">\n",
       "      <th></th>\n",
       "      <th>Relationship_Type</th>\n",
       "      <th>Total_Count</th>\n",
       "    </tr>\n",
       "  </thead>\n",
       "  <tbody>\n",
       "    <tr>\n",
       "      <th>0</th>\n",
       "      <td>MENTIONS</td>\n",
       "      <td>56110</td>\n",
       "    </tr>\n",
       "    <tr>\n",
       "      <th>1</th>\n",
       "      <td>POSTED</td>\n",
       "      <td>200833</td>\n",
       "    </tr>\n",
       "    <tr>\n",
       "      <th>2</th>\n",
       "      <td>RETWEETED</td>\n",
       "      <td>39649</td>\n",
       "    </tr>\n",
       "    <tr>\n",
       "      <th>3</th>\n",
       "      <td>IN_REPLY_TO</td>\n",
       "      <td>559</td>\n",
       "    </tr>\n",
       "    <tr>\n",
       "      <th>4</th>\n",
       "      <td>POSTED_VIA</td>\n",
       "      <td>58051</td>\n",
       "    </tr>\n",
       "    <tr>\n",
       "      <th>5</th>\n",
       "      <td>HAS_LINK</td>\n",
       "      <td>31166</td>\n",
       "    </tr>\n",
       "    <tr>\n",
       "      <th>6</th>\n",
       "      <td>HAS_TAG</td>\n",
       "      <td>106792</td>\n",
       "    </tr>\n",
       "  </tbody>\n",
       "</table>\n",
       "</div>"
      ],
      "text/plain": [
       "  Relationship_Type  Total_Count\n",
       "0          MENTIONS        56110\n",
       "1            POSTED       200833\n",
       "2         RETWEETED        39649\n",
       "3       IN_REPLY_TO          559\n",
       "4        POSTED_VIA        58051\n",
       "5          HAS_LINK        31166\n",
       "6           HAS_TAG       106792"
      ]
     },
     "execution_count": 9,
     "metadata": {},
     "output_type": "execute_result"
    }
   ],
   "source": [
    "# To load all the relationships and its count present in the dataset\n",
    "dataset_relationship=DataFrame(twitter_troll_dataset.run(\"Match ()-[r]->() return Type(r) as Relationship_Type, count(*) as Total_Count\").data())\n",
    "dataset_relationship"
   ]
  },
  {
   "cell_type": "code",
   "execution_count": 10,
   "metadata": {
    "collapsed": false
   },
   "outputs": [
    {
     "data": {
      "image/png": "[encoded data removed]",
      "text/plain": [
       "<matplotlib.figure.Figure at 0x1777cfd0>"
      ]
     },
     "metadata": {},
     "output_type": "display_data"
    }
   ],
   "source": [
    "#Visualizing the Relationships and its total counts\n",
    "import seaborn as sns\n",
    "plt.figure(figsize=(10,5))\n",
    "ax = sns.barplot(data=dataset_relationship, x= \"Relationship_Type\", y = \"Total_Count\")\n",
    "#ax.set(ylabel = 'Total_Count')\n",
    "plt.show()\n"
   ]
  },
  {
   "cell_type": "code",
   "execution_count": 11,
   "metadata": {
    "collapsed": false
   },
   "outputs": [
    {
     "data": {
      "text/html": [
       "<div>\n",
       "<table border=\"1\" class=\"dataframe\">\n",
       "  <thead>\n",
       "    <tr style=\"text-align: right;\">\n",
       "      <th></th>\n",
       "      <th>count</th>\n",
       "    </tr>\n",
       "  </thead>\n",
       "  <tbody>\n",
       "    <tr>\n",
       "      <th>0</th>\n",
       "      <td>143206</td>\n",
       "    </tr>\n",
       "  </tbody>\n",
       "</table>\n",
       "</div>"
      ],
      "text/plain": [
       "    count\n",
       "0  143206"
      ]
     },
     "execution_count": 11,
     "metadata": {},
     "output_type": "execute_result"
    }
   ],
   "source": [
    "#Number of users whose followers are more than 1000\n",
    "DataFrame(twitter_troll_dataset.run(\"MATCH (u:User)-[r1:POSTED]->(t:Tweet) WHERE u.followers_count > 1000 WITH COUNT(t) AS count RETURN count\").data())"
   ]
  },
  {
   "cell_type": "code",
   "execution_count": 12,
   "metadata": {
    "collapsed": false
   },
   "outputs": [
    {
     "data": {
      "text/html": [
       "<div>\n",
       "<table border=\"1\" class=\"dataframe\">\n",
       "  <thead>\n",
       "    <tr style=\"text-align: right;\">\n",
       "      <th></th>\n",
       "      <th>Screen_name</th>\n",
       "      <th>Tweets_count</th>\n",
       "    </tr>\n",
       "  </thead>\n",
       "  <tbody>\n",
       "    <tr>\n",
       "      <th>0</th>\n",
       "      <td>AmelieBaldwin</td>\n",
       "      <td>9262</td>\n",
       "    </tr>\n",
       "    <tr>\n",
       "      <th>1</th>\n",
       "      <td>hyddrox</td>\n",
       "      <td>6809</td>\n",
       "    </tr>\n",
       "    <tr>\n",
       "      <th>2</th>\n",
       "      <td>GiselleEvns</td>\n",
       "      <td>6582</td>\n",
       "    </tr>\n",
       "    <tr>\n",
       "      <th>3</th>\n",
       "      <td>PatriotBlake</td>\n",
       "      <td>4138</td>\n",
       "    </tr>\n",
       "    <tr>\n",
       "      <th>4</th>\n",
       "      <td>TheFoundingSon</td>\n",
       "      <td>3571</td>\n",
       "    </tr>\n",
       "  </tbody>\n",
       "</table>\n",
       "</div>"
      ],
      "text/plain": [
       "      Screen_name  Tweets_count\n",
       "0   AmelieBaldwin          9262\n",
       "1         hyddrox          6809\n",
       "2     GiselleEvns          6582\n",
       "3    PatriotBlake          4138\n",
       "4  TheFoundingSon          3571"
      ]
     },
     "execution_count": 12,
     "metadata": {},
     "output_type": "execute_result"
    }
   ],
   "source": [
    "#Top 5 users who posted tweets the most number of times\n",
    "top_tweet_user=DataFrame(twitter_troll_dataset.run(\"MATCH (u:User)-[r1:POSTED]->(t:Tweet) WITH u, COUNT(t) AS Tweets_count RETURN Tweets_count,u.screen_name as Screen_name order by Tweets_count desc limit 5\").data())\n",
    "top_tweet_user"
   ]
  },
  {
   "cell_type": "code",
   "execution_count": 13,
   "metadata": {
    "collapsed": false
   },
   "outputs": [
    {
     "data": {
      "image/png": "[encoded data removed]",
      "text/plain": [
       "<matplotlib.figure.Figure at 0x17947748>"
      ]
     },
     "metadata": {},
     "output_type": "display_data"
    }
   ],
   "source": [
    "# selecting top 5 users who posted the most tweets\n",
    "d = top_tweet_user.nlargest(columns=\"Tweets_count\", n = 10) \n",
    "plt.figure(figsize=(10,5))\n",
    "ax = sns.barplot(data=d, x= \"Screen_name\", y = \"Tweets_count\")\n",
    "ax.set(xlabel='Screen Name',ylabel = 'Number of tweets posted')\n",
    "plt.show()\n",
    "\n"
   ]
  },
  {
   "cell_type": "code",
   "execution_count": 14,
   "metadata": {
    "collapsed": false
   },
   "outputs": [
    {
     "data": {
      "text/html": [
       "<div>\n",
       "<table border=\"1\" class=\"dataframe\">\n",
       "  <thead>\n",
       "    <tr style=\"text-align: right;\">\n",
       "      <th></th>\n",
       "      <th>Followers</th>\n",
       "      <th>Screen_name</th>\n",
       "      <th>Tweets_count</th>\n",
       "    </tr>\n",
       "  </thead>\n",
       "  <tbody>\n",
       "    <tr>\n",
       "      <th>0</th>\n",
       "      <td>98412</td>\n",
       "      <td>MaxDementiev</td>\n",
       "      <td>5</td>\n",
       "    </tr>\n",
       "    <tr>\n",
       "      <th>1</th>\n",
       "      <td>94773</td>\n",
       "      <td>KadirovRussia</td>\n",
       "      <td>7</td>\n",
       "    </tr>\n",
       "    <tr>\n",
       "      <th>2</th>\n",
       "      <td>61609</td>\n",
       "      <td>Jenn_Abrams</td>\n",
       "      <td>726</td>\n",
       "    </tr>\n",
       "    <tr>\n",
       "      <th>3</th>\n",
       "      <td>60897</td>\n",
       "      <td>TodayNYCity</td>\n",
       "      <td>105</td>\n",
       "    </tr>\n",
       "    <tr>\n",
       "      <th>4</th>\n",
       "      <td>47080</td>\n",
       "      <td>LavrovMuesli</td>\n",
       "      <td>12</td>\n",
       "    </tr>\n",
       "  </tbody>\n",
       "</table>\n",
       "</div>"
      ],
      "text/plain": [
       "   Followers    Screen_name  Tweets_count\n",
       "0      98412   MaxDementiev             5\n",
       "1      94773  KadirovRussia             7\n",
       "2      61609    Jenn_Abrams           726\n",
       "3      60897    TodayNYCity           105\n",
       "4      47080   LavrovMuesli            12"
      ]
     },
     "execution_count": 14,
     "metadata": {},
     "output_type": "execute_result"
    }
   ],
   "source": [
    "#Top 5 users who posted tweets the most number of times with high follower count\n",
    "DataFrame(twitter_troll_dataset.run(\"MATCH (u:User)-[:POSTED]->(t:Tweet) where u.followers_count>1000 WITH u,count(t) AS Tweets_count RETURN u.screen_name as Screen_name,Tweets_count ,u.followers_count as Followers order by Followers desc limit 5\").data())"
   ]
  },
  {
   "cell_type": "code",
   "execution_count": 15,
   "metadata": {
    "collapsed": false
   },
   "outputs": [
    {
     "data": {
      "text/html": [
       "<div>\n",
       "<table border=\"1\" class=\"dataframe\">\n",
       "  <thead>\n",
       "    <tr style=\"text-align: right;\">\n",
       "      <th></th>\n",
       "      <th>Hashtag_count</th>\n",
       "      <th>Hashtag_names</th>\n",
       "      <th>Screen_name</th>\n",
       "    </tr>\n",
       "  </thead>\n",
       "  <tbody>\n",
       "    <tr>\n",
       "      <th>0</th>\n",
       "      <td>1827</td>\n",
       "      <td>[steinbaraka, libtards, birtherism, crookedhil...</td>\n",
       "      <td>AmelieBaldwin</td>\n",
       "    </tr>\n",
       "    <tr>\n",
       "      <th>1</th>\n",
       "      <td>1135</td>\n",
       "      <td>[immigration, debate, clintonisthenewcword, ba...</td>\n",
       "      <td>hyddrox</td>\n",
       "    </tr>\n",
       "    <tr>\n",
       "      <th>2</th>\n",
       "      <td>916</td>\n",
       "      <td>[fakenews, endchildabuse, az, crooked, thanks,...</td>\n",
       "      <td>PatriotBlake</td>\n",
       "    </tr>\n",
       "    <tr>\n",
       "      <th>3</th>\n",
       "      <td>675</td>\n",
       "      <td>[p, m5s, boycott, trumppence16, maga, dobbs, a...</td>\n",
       "      <td>EmileeWaren</td>\n",
       "    </tr>\n",
       "    <tr>\n",
       "      <th>4</th>\n",
       "      <td>662</td>\n",
       "      <td>[inhonorof, makeamericagreatagain, maniacsforc...</td>\n",
       "      <td>DorothieBell</td>\n",
       "    </tr>\n",
       "  </tbody>\n",
       "</table>\n",
       "</div>"
      ],
      "text/plain": [
       "   Hashtag_count                                      Hashtag_names  \\\n",
       "0           1827  [steinbaraka, libtards, birtherism, crookedhil...   \n",
       "1           1135  [immigration, debate, clintonisthenewcword, ba...   \n",
       "2            916  [fakenews, endchildabuse, az, crooked, thanks,...   \n",
       "3            675  [p, m5s, boycott, trumppence16, maga, dobbs, a...   \n",
       "4            662  [inhonorof, makeamericagreatagain, maniacsforc...   \n",
       "\n",
       "     Screen_name  \n",
       "0  AmelieBaldwin  \n",
       "1        hyddrox  \n",
       "2   PatriotBlake  \n",
       "3    EmileeWaren  \n",
       "4   DorothieBell  "
      ]
     },
     "execution_count": 15,
     "metadata": {},
     "output_type": "execute_result"
    }
   ],
   "source": [
    "#Different hashtags used by top 10 people whose follower count is greater than 1000 and have used most number of hashtags\n",
    "DataFrame(twitter_troll_dataset.run(\"MATCH (u:User)-[:POSTED]->(t:Tweet)-[:HAS_TAG]->(h:Hashtag) WHERE u.followers_count>1000 WITH u,count(distinct h) AS Hashtag_count,collect(distinct h.tag) AS Hashtag_names order by Hashtag_count desc limit 5 RETURN u.screen_name as Screen_name,Hashtag_count,Hashtag_names\").data())"
   ]
  },
  {
   "cell_type": "code",
   "execution_count": 16,
   "metadata": {
    "collapsed": false
   },
   "outputs": [
    {
     "data": {
      "text/html": [
       "<div>\n",
       "<table border=\"1\" class=\"dataframe\">\n",
       "  <thead>\n",
       "    <tr style=\"text-align: right;\">\n",
       "      <th></th>\n",
       "      <th>Retweet_Users</th>\n",
       "      <th>Screen_name</th>\n",
       "    </tr>\n",
       "  </thead>\n",
       "  <tbody>\n",
       "    <tr>\n",
       "      <th>0</th>\n",
       "      <td>250</td>\n",
       "      <td>TEN_GOP</td>\n",
       "    </tr>\n",
       "    <tr>\n",
       "      <th>1</th>\n",
       "      <td>182</td>\n",
       "      <td>GiselleEvns</td>\n",
       "    </tr>\n",
       "    <tr>\n",
       "      <th>2</th>\n",
       "      <td>128</td>\n",
       "      <td>NotRitaHart</td>\n",
       "    </tr>\n",
       "    <tr>\n",
       "      <th>3</th>\n",
       "      <td>105</td>\n",
       "      <td>gloed_up</td>\n",
       "    </tr>\n",
       "    <tr>\n",
       "      <th>4</th>\n",
       "      <td>99</td>\n",
       "      <td>tpartynews</td>\n",
       "    </tr>\n",
       "  </tbody>\n",
       "</table>\n",
       "</div>"
      ],
      "text/plain": [
       "   Retweet_Users  Screen_name\n",
       "0            250      TEN_GOP\n",
       "1            182  GiselleEvns\n",
       "2            128  NotRitaHart\n",
       "3            105     gloed_up\n",
       "4             99   tpartynews"
      ]
     },
     "execution_count": 16,
     "metadata": {},
     "output_type": "execute_result"
    }
   ],
   "source": [
    "# Influential Users who tweets are reposted or replied the most\n",
    "DataFrame(twitter_troll_dataset.run(\"MATCH (u) - [] ->(t:Tweet)<-[:RETWEETED|IN_REPLY_TO]-(t1:Tweet)<-[:POSTED]-(u2:User) where u.screen_name is not null \\\n",
    "WITH DISTINCT(u.screen_name) as Screen_name,count(u2.screen_name) as Retweet_Users order by Retweet_Users desc RETURN Screen_name,Retweet_Users LIMIT 5\").data())"
   ]
  },
  {
   "cell_type": "code",
   "execution_count": 17,
   "metadata": {
    "collapsed": false
   },
   "outputs": [],
   "source": [
    "# Number of tweets on different dates\n",
    "d=DataFrame(twitter_troll_dataset.run(\"MATCH (t:Tweet) WITH distinct left(t.created_str,10) AS date_str, count(t) AS number_of_tweets RETURN date_str,number_of_tweets \").data())"
   ]
  },
  {
   "cell_type": "code",
   "execution_count": 18,
   "metadata": {
    "collapsed": false
   },
   "outputs": [
    {
     "data": {
      "text/plain": [
       "<matplotlib.text.Text at 0x17dae4e0>"
      ]
     },
     "execution_count": 18,
     "metadata": {},
     "output_type": "execute_result"
    },
    {
     "data": {
      "image/png": "[encoded data removed]",
      "text/plain": [
       "<matplotlib.figure.Figure at 0x17b94fd0>"
      ]
     },
     "metadata": {},
     "output_type": "display_data"
    }
   ],
   "source": [
    "# number of tweets as per the date\n",
    "plt.style.use('seaborn-darkgrid')\n",
    "d.plot(x='date_str',y='number_of_tweets',linestyle = \"-\", figsize = (10,8), rot = 45, color = 'b',\n",
    "                               linewidth = 2)\n",
    "plt.title('Tweet counts by date', fontsize = 14)\n",
    "plt.xlabel('Date', fontsize = 13)\n",
    "plt.ylabel('Tweet Count', fontsize = 13)"
   ]
  },
  {
   "cell_type": "code",
   "execution_count": 19,
   "metadata": {
    "collapsed": false
   },
   "outputs": [
    {
     "data": {
      "image/png": "[encoded data removed]",
      "text/plain": [
       "<matplotlib.figure.Figure at 0x1410e828>"
      ]
     },
     "metadata": {},
     "output_type": "display_data"
    }
   ],
   "source": [
    "dates_order=DataFrame(twitter_troll_dataset.run(\"MATCH (t:Tweet) WITH distinct left(t.created_str,10) AS date_str, count(t) AS number_of_tweets where date_str is not null RETURN date_str,number_of_tweets order by number_of_tweets desc limit 10  \").data())\n",
    "# number of tweets as per the dates\n",
    "plt.style.use('seaborn-darkgrid')\n",
    "dates_order.plot(x='date_str',y='number_of_tweets',linestyle = \"-\", figsize = (8,8), rot = 45, color = 'b',\n",
    "                               linewidth = 2)\n",
    "plt.title('Tweet counts by date', fontsize = 14)\n",
    "plt.xlabel('Date', fontsize = 13)\n",
    "plt.ylabel('Tweet Count', fontsize = 13)\n",
    "plt.savefig('Date and tweet.png')"
   ]
  },
  {
   "cell_type": "code",
   "execution_count": 20,
   "metadata": {
    "collapsed": false
   },
   "outputs": [],
   "source": [
    "#Top Hashtags used\n",
    "Hashtag_cloud=DataFrame(twitter_troll_dataset.run(\"MATCH (u)-[]->(h:Hashtag) \\\n",
    "WITH h.tag as Hashtag,count(h) AS total_count \\\n",
    "order by total_count desc \\\n",
    "RETURN Hashtag,total_count\").data())"
   ]
  },
  {
   "cell_type": "code",
   "execution_count": 21,
   "metadata": {
    "collapsed": false
   },
   "outputs": [
    {
     "data": {
      "image/png": "[encoded data removed]",
      "text/plain": [
       "<PIL.Image.Image image mode=RGB size=400x200 at 0x178197B8>"
      ]
     },
     "execution_count": 21,
     "metadata": {},
     "output_type": "execute_result"
    }
   ],
   "source": [
    "#Wordcloud of Top 10 Hashtags used : To analyse what people are talking about\n",
    "WordCloud().generate(str(Hashtag_cloud)).to_image()"
   ]
  },
  {
   "cell_type": "code",
   "execution_count": 22,
   "metadata": {
    "collapsed": false
   },
   "outputs": [
    {
     "data": {
      "text/html": [
       "<div>\n",
       "<table border=\"1\" class=\"dataframe\">\n",
       "  <thead>\n",
       "    <tr style=\"text-align: right;\">\n",
       "      <th></th>\n",
       "      <th>Avg</th>\n",
       "      <th>Max</th>\n",
       "      <th>Min</th>\n",
       "      <th>Stdv</th>\n",
       "    </tr>\n",
       "  </thead>\n",
       "  <tbody>\n",
       "    <tr>\n",
       "      <th>0</th>\n",
       "      <td>18.002032</td>\n",
       "      <td>9262</td>\n",
       "      <td>0</td>\n",
       "      <td>205.894677</td>\n",
       "    </tr>\n",
       "  </tbody>\n",
       "</table>\n",
       "</div>"
      ],
      "text/plain": [
       "         Avg   Max  Min        Stdv\n",
       "0  18.002032  9262    0  205.894677"
      ]
     },
     "execution_count": 22,
     "metadata": {},
     "output_type": "execute_result"
    }
   ],
   "source": [
    "#The degree statistics on an average for a user : The people connected to one user on an average\n",
    "DataFrame(twitter_troll_dataset.run(\"match (u:User) return avg(apoc.node.degree(u)) as Avg, max(apoc.node.degree(u)) as Max, min(apoc.node.degree(u)) as Min, stdev(apoc.node.degree(u)) as Stdv\").data())"
   ]
  },
  {
   "cell_type": "markdown",
   "metadata": {},
   "source": [
    "<b> Data Analysis using Centrality Measures <b>"
   ]
  },
  {
   "cell_type": "code",
   "execution_count": 23,
   "metadata": {
    "collapsed": false
   },
   "outputs": [
    {
     "data": {
      "text/html": [
       "<div>\n",
       "<table border=\"1\" class=\"dataframe\">\n",
       "  <thead>\n",
       "    <tr style=\"text-align: right;\">\n",
       "      <th></th>\n",
       "      <th>Followers_count</th>\n",
       "      <th>Screen_name</th>\n",
       "    </tr>\n",
       "  </thead>\n",
       "  <tbody>\n",
       "    <tr>\n",
       "      <th>0</th>\n",
       "      <td>98412</td>\n",
       "      <td>MaxDementiev</td>\n",
       "    </tr>\n",
       "    <tr>\n",
       "      <th>1</th>\n",
       "      <td>94773</td>\n",
       "      <td>KadirovRussia</td>\n",
       "    </tr>\n",
       "    <tr>\n",
       "      <th>2</th>\n",
       "      <td>61609</td>\n",
       "      <td>Jenn_Abrams</td>\n",
       "    </tr>\n",
       "    <tr>\n",
       "      <th>3</th>\n",
       "      <td>60897</td>\n",
       "      <td>TodayNYCity</td>\n",
       "    </tr>\n",
       "    <tr>\n",
       "      <th>4</th>\n",
       "      <td>47080</td>\n",
       "      <td>LavrovMuesli</td>\n",
       "    </tr>\n",
       "  </tbody>\n",
       "</table>\n",
       "</div>"
      ],
      "text/plain": [
       "   Followers_count    Screen_name\n",
       "0            98412   MaxDementiev\n",
       "1            94773  KadirovRussia\n",
       "2            61609    Jenn_Abrams\n",
       "3            60897    TodayNYCity\n",
       "4            47080   LavrovMuesli"
      ]
     },
     "execution_count": 23,
     "metadata": {},
     "output_type": "execute_result"
    }
   ],
   "source": [
    "# Top 5 Users who should influnece i.e. on the basis of followers_count\n",
    "DataFrame(twitter_troll_dataset.run(\"\"\"MATCH (u:User) \\\n",
    "where u.followers_count is not null \\\n",
    "return u.screen_name as Screen_name ,u.followers_count as Followers_count order by Followers_count desc limit 5\"\"\").data())"
   ]
  },
  {
   "cell_type": "code",
   "execution_count": 24,
   "metadata": {
    "collapsed": false
   },
   "outputs": [
    {
     "data": {
      "text/html": [
       "<div>\n",
       "<table border=\"1\" class=\"dataframe\">\n",
       "  <thead>\n",
       "    <tr style=\"text-align: right;\">\n",
       "      <th></th>\n",
       "      <th>Degree</th>\n",
       "      <th>Id</th>\n",
       "      <th>Screen_name</th>\n",
       "    </tr>\n",
       "  </thead>\n",
       "  <tbody>\n",
       "    <tr>\n",
       "      <th>0</th>\n",
       "      <td>250</td>\n",
       "      <td>4224729994</td>\n",
       "      <td>TEN_GOP</td>\n",
       "    </tr>\n",
       "    <tr>\n",
       "      <th>1</th>\n",
       "      <td>182</td>\n",
       "      <td>2882013788</td>\n",
       "      <td>GiselleEvns</td>\n",
       "    </tr>\n",
       "    <tr>\n",
       "      <th>2</th>\n",
       "      <td>128</td>\n",
       "      <td>2496599688</td>\n",
       "      <td>NotRitaHart</td>\n",
       "    </tr>\n",
       "    <tr>\n",
       "      <th>3</th>\n",
       "      <td>105</td>\n",
       "      <td>3312143142</td>\n",
       "      <td>gloed_up</td>\n",
       "    </tr>\n",
       "    <tr>\n",
       "      <th>4</th>\n",
       "      <td>99</td>\n",
       "      <td>3990577513</td>\n",
       "      <td>tpartynews</td>\n",
       "    </tr>\n",
       "  </tbody>\n",
       "</table>\n",
       "</div>"
      ],
      "text/plain": [
       "   Degree          Id  Screen_name\n",
       "0     250  4224729994      TEN_GOP\n",
       "1     182  2882013788  GiselleEvns\n",
       "2     128  2496599688  NotRitaHart\n",
       "3     105  3312143142     gloed_up\n",
       "4      99  3990577513   tpartynews"
      ]
     },
     "execution_count": 24,
     "metadata": {},
     "output_type": "execute_result"
    }
   ],
   "source": [
    "#Top 5 influential users on the basis of degree centrality called as out degree centrality:It includes the retweets /in_reply_to\n",
    "DataFrame(twitter_troll_dataset.run(\"\"\"MATCH (u: User) \\\n",
    "RETURN u.screen_name as Screen_name,u.id as Id, size ((u) - [] ->()<-[:RETWEETED|IN_REPLY_TO]-()) as Degree \\\n",
    "ORDER BY Degree DESC \\\n",
    "LIMIT 5\"\"\").data())"
   ]
  },
  {
   "cell_type": "code",
   "execution_count": 25,
   "metadata": {
    "collapsed": false
   },
   "outputs": [
    {
     "data": {
      "text/html": [
       "<div>\n",
       "<table border=\"1\" class=\"dataframe\">\n",
       "  <thead>\n",
       "    <tr style=\"text-align: right;\">\n",
       "      <th></th>\n",
       "      <th>u.description</th>\n",
       "      <th>u.id</th>\n",
       "      <th>u.location</th>\n",
       "    </tr>\n",
       "  </thead>\n",
       "  <tbody>\n",
       "    <tr>\n",
       "      <th>0</th>\n",
       "      <td></td>\n",
       "      <td>4224729994</td>\n",
       "      <td></td>\n",
       "    </tr>\n",
       "  </tbody>\n",
       "</table>\n",
       "</div>"
      ],
      "text/plain": [
       "  u.description        u.id u.location\n",
       "0                4224729994           "
      ]
     },
     "execution_count": 25,
     "metadata": {},
     "output_type": "execute_result"
    }
   ],
   "source": [
    "#Find the other details of the user who is the most influential: 'TEN_GOP'\n",
    "DataFrame(twitter_troll_dataset.run(\"\"\"MATCH (u:User{screen_name:'TEN_GOP'}) RETURN u.description,u.id,u.location\"\"\").data())\n",
    "# The TEN_GOP user is a fake user since no other details were found."
   ]
  },
  {
   "cell_type": "code",
   "execution_count": 26,
   "metadata": {
    "collapsed": false
   },
   "outputs": [
    {
     "data": {
      "text/html": [
       "<div>\n",
       "<table border=\"1\" class=\"dataframe\">\n",
       "  <thead>\n",
       "    <tr style=\"text-align: right;\">\n",
       "      <th></th>\n",
       "      <th>u.description</th>\n",
       "      <th>u.id</th>\n",
       "      <th>u.location</th>\n",
       "    </tr>\n",
       "  </thead>\n",
       "  <tbody>\n",
       "    <tr>\n",
       "      <th>0</th>\n",
       "      <td>if you don't work hard to achieve your dreams,...</td>\n",
       "      <td>2882013788</td>\n",
       "      <td>Pittsburgh, US</td>\n",
       "    </tr>\n",
       "  </tbody>\n",
       "</table>\n",
       "</div>"
      ],
      "text/plain": [
       "                                       u.description        u.id  \\\n",
       "0  if you don't work hard to achieve your dreams,...  2882013788   \n",
       "\n",
       "       u.location  \n",
       "0  Pittsburgh, US  "
      ]
     },
     "execution_count": 26,
     "metadata": {},
     "output_type": "execute_result"
    }
   ],
   "source": [
    "#Find the second most influential: 'GiselleEvns'\n",
    "DataFrame(twitter_troll_dataset.run(\"\"\"MATCH (u:User{screen_name:'GiselleEvns'}) RETURN u.description,u.id,u.location\"\"\").data())"
   ]
  },
  {
   "cell_type": "code",
   "execution_count": 27,
   "metadata": {
    "collapsed": false
   },
   "outputs": [
    {
     "data": {
      "text/html": [
       "<div>\n",
       "<table border=\"1\" class=\"dataframe\">\n",
       "  <thead>\n",
       "    <tr style=\"text-align: right;\">\n",
       "      <th></th>\n",
       "      <th>u.description</th>\n",
       "      <th>u.id</th>\n",
       "      <th>u.location</th>\n",
       "    </tr>\n",
       "  </thead>\n",
       "  <tbody>\n",
       "    <tr>\n",
       "      <th>0</th>\n",
       "      <td>Lost in the moment</td>\n",
       "      <td>2496599688</td>\n",
       "      <td>Atlanta</td>\n",
       "    </tr>\n",
       "  </tbody>\n",
       "</table>\n",
       "</div>"
      ],
      "text/plain": [
       "        u.description        u.id u.location\n",
       "0  Lost in the moment  2496599688    Atlanta"
      ]
     },
     "execution_count": 27,
     "metadata": {},
     "output_type": "execute_result"
    }
   ],
   "source": [
    "#Find the third most influential user: 'NotRitaHart'\n",
    "DataFrame(twitter_troll_dataset.run(\"\"\"MATCH (u:User{screen_name:'NotRitaHart'}) RETURN u.description,u.id,u.location\"\"\").data())"
   ]
  },
  {
   "cell_type": "code",
   "execution_count": 28,
   "metadata": {
    "collapsed": false
   },
   "outputs": [
    {
     "data": {
      "text/plain": [
       "[{u'computeMillis': 6,\n",
       "  u'dampingFactor': 0.85,\n",
       "  u'iterations': 20,\n",
       "  u'loadMillis': 207,\n",
       "  u'nodes': 14273,\n",
       "  u'write': True,\n",
       "  u'writeMillis': 31,\n",
       "  u'writeProperty': u'UserRank'}]"
      ]
     },
     "execution_count": 28,
     "metadata": {},
     "output_type": "execute_result"
    }
   ],
   "source": [
    "#To calculate the Page Rank Centrality on Users Network:To be continued\n",
    "twitter_troll_dataset.run(\"\"\"call algo.pageRank('MATCH (u:User) return id(u) as id',\n",
    "'MATCH (u:User)-[:POSTED]->()<-[:RETWEETED|IN_REPLY_TO]-()<-[:POSTED]-(u2:User) return id(u) as source,id(u2) as target',\n",
    "{graph:'cypher',writeProperty:'UserRank'});\"\"\").data()\n"
   ]
  },
  {
   "cell_type": "code",
   "execution_count": 29,
   "metadata": {
    "collapsed": false
   },
   "outputs": [
    {
     "data": {
      "text/html": [
       "<div>\n",
       "<table border=\"1\" class=\"dataframe\">\n",
       "  <thead>\n",
       "    <tr style=\"text-align: right;\">\n",
       "      <th></th>\n",
       "      <th>Screen_name</th>\n",
       "      <th>u.UserRank</th>\n",
       "    </tr>\n",
       "  </thead>\n",
       "  <tbody>\n",
       "    <tr>\n",
       "      <th>0</th>\n",
       "      <td>GiselleEvns</td>\n",
       "      <td>5.652868</td>\n",
       "    </tr>\n",
       "    <tr>\n",
       "      <th>1</th>\n",
       "      <td>DorothieBell</td>\n",
       "      <td>2.877542</td>\n",
       "    </tr>\n",
       "    <tr>\n",
       "      <th>2</th>\n",
       "      <td>c__wells</td>\n",
       "      <td>2.631696</td>\n",
       "    </tr>\n",
       "    <tr>\n",
       "      <th>3</th>\n",
       "      <td>JeffreyKahunas</td>\n",
       "      <td>2.558382</td>\n",
       "    </tr>\n",
       "    <tr>\n",
       "      <th>4</th>\n",
       "      <td>hollandpatrickk</td>\n",
       "      <td>2.530974</td>\n",
       "    </tr>\n",
       "  </tbody>\n",
       "</table>\n",
       "</div>"
      ],
      "text/plain": [
       "       Screen_name  u.UserRank\n",
       "0      GiselleEvns    5.652868\n",
       "1     DorothieBell    2.877542\n",
       "2         c__wells    2.631696\n",
       "3   JeffreyKahunas    2.558382\n",
       "4  hollandpatrickk    2.530974"
      ]
     },
     "execution_count": 29,
     "metadata": {},
     "output_type": "execute_result"
    }
   ],
   "source": [
    "#Continued\n",
    "t=DataFrame(twitter_troll_dataset.run(\"\"\"MATCH (u:User)\n",
    "RETURN u.screen_name as Screen_name, u.UserRank\n",
    "ORDER BY u.UserRank DESC LIMIT 5\"\"\").data())\n",
    "t"
   ]
  },
  {
   "cell_type": "code",
   "execution_count": 30,
   "metadata": {
    "collapsed": false
   },
   "outputs": [
    {
     "data": {
      "image/png": "[encoded data removed]",
      "text/plain": [
       "<matplotlib.figure.Figure at 0x179327b8>"
      ]
     },
     "metadata": {},
     "output_type": "display_data"
    }
   ],
   "source": [
    "#Box plot for the users : To calculate the median, skewness and other statistics\n",
    "plt.figure(figsize=(12,5))\n",
    "plt.boxplot(t['u.UserRank'], showfliers=False, vert=False)\n",
    "plt.title(\"Page Rank for for all users\")\n",
    "plt.show()"
   ]
  },
  {
   "cell_type": "code",
   "execution_count": 31,
   "metadata": {
    "collapsed": false
   },
   "outputs": [
    {
     "data": {
      "image/png": "[encoded data removed]",
      "text/plain": [
       "<matplotlib.figure.Figure at 0x18129d68>"
      ]
     },
     "metadata": {},
     "output_type": "display_data"
    }
   ],
   "source": [
    "sns.distplot(t['u.UserRank'])\n",
    "plt.title('PageRank Centrality for users')\n",
    "plt.show()"
   ]
  },
  {
   "cell_type": "code",
   "execution_count": 32,
   "metadata": {
    "collapsed": false
   },
   "outputs": [
    {
     "data": {
      "text/plain": [
       "[{u'computeMillis': 79,\n",
       "  u'dampingFactor': 0.85,\n",
       "  u'iterations': 20,\n",
       "  u'loadMillis': 185,\n",
       "  u'nodes': 14273,\n",
       "  u'write': True,\n",
       "  u'writeMillis': 29,\n",
       "  u'writeProperty': u'mentionRank'}]"
      ]
     },
     "execution_count": 32,
     "metadata": {},
     "output_type": "execute_result"
    }
   ],
   "source": [
    "#PageRank on a “mention” Network :Mention network cannot be considered as a good measure to get the list of influential users\n",
    "twitter_troll_dataset.run(\"\"\"call algo.pageRank('MATCH (u:User) return id(u) as id',\n",
    "'MATCH (u:User)-[:POSTED]->()-[:MENTIONS]->(u2:User) return id(u) as source,id(u2) as target',\n",
    "{graph:'cypher',writeProperty:'mentionRank'});\"\"\").data()"
   ]
  },
  {
   "cell_type": "code",
   "execution_count": 33,
   "metadata": {
    "collapsed": false
   },
   "outputs": [
    {
     "data": {
      "text/html": [
       "<div>\n",
       "<table border=\"1\" class=\"dataframe\">\n",
       "  <thead>\n",
       "    <tr style=\"text-align: right;\">\n",
       "      <th></th>\n",
       "      <th>u.UserRank</th>\n",
       "      <th>u.mentionRank</th>\n",
       "      <th>u.name</th>\n",
       "      <th>u.screen_name</th>\n",
       "    </tr>\n",
       "  </thead>\n",
       "  <tbody>\n",
       "    <tr>\n",
       "      <th>0</th>\n",
       "      <td>0.150000</td>\n",
       "      <td>3.874117</td>\n",
       "      <td>None</td>\n",
       "      <td>None</td>\n",
       "    </tr>\n",
       "    <tr>\n",
       "      <th>1</th>\n",
       "      <td>0.150000</td>\n",
       "      <td>2.104972</td>\n",
       "      <td>None</td>\n",
       "      <td>None</td>\n",
       "    </tr>\n",
       "    <tr>\n",
       "      <th>2</th>\n",
       "      <td>0.150000</td>\n",
       "      <td>1.485917</td>\n",
       "      <td>None</td>\n",
       "      <td>None</td>\n",
       "    </tr>\n",
       "    <tr>\n",
       "      <th>3</th>\n",
       "      <td>0.150000</td>\n",
       "      <td>1.334957</td>\n",
       "      <td>None</td>\n",
       "      <td>None</td>\n",
       "    </tr>\n",
       "    <tr>\n",
       "      <th>4</th>\n",
       "      <td>0.150000</td>\n",
       "      <td>1.298425</td>\n",
       "      <td>None</td>\n",
       "      <td>None</td>\n",
       "    </tr>\n",
       "    <tr>\n",
       "      <th>5</th>\n",
       "      <td>0.967054</td>\n",
       "      <td>0.967054</td>\n",
       "      <td>Darrell Hunt</td>\n",
       "      <td>Darrell_H_Hunt</td>\n",
       "    </tr>\n",
       "    <tr>\n",
       "      <th>6</th>\n",
       "      <td>0.150000</td>\n",
       "      <td>0.959979</td>\n",
       "      <td>None</td>\n",
       "      <td>None</td>\n",
       "    </tr>\n",
       "    <tr>\n",
       "      <th>7</th>\n",
       "      <td>0.150000</td>\n",
       "      <td>0.821459</td>\n",
       "      <td>None</td>\n",
       "      <td>None</td>\n",
       "    </tr>\n",
       "    <tr>\n",
       "      <th>8</th>\n",
       "      <td>0.967055</td>\n",
       "      <td>0.551917</td>\n",
       "      <td>Warfare Worldwide</td>\n",
       "      <td>WarfareWW</td>\n",
       "    </tr>\n",
       "    <tr>\n",
       "      <th>9</th>\n",
       "      <td>0.150000</td>\n",
       "      <td>0.534074</td>\n",
       "      <td>None</td>\n",
       "      <td>None</td>\n",
       "    </tr>\n",
       "    <tr>\n",
       "      <th>10</th>\n",
       "      <td>0.150000</td>\n",
       "      <td>0.518408</td>\n",
       "      <td>None</td>\n",
       "      <td>None</td>\n",
       "    </tr>\n",
       "    <tr>\n",
       "      <th>11</th>\n",
       "      <td>0.150000</td>\n",
       "      <td>0.512610</td>\n",
       "      <td>None</td>\n",
       "      <td>None</td>\n",
       "    </tr>\n",
       "    <tr>\n",
       "      <th>12</th>\n",
       "      <td>0.150000</td>\n",
       "      <td>0.468750</td>\n",
       "      <td>None</td>\n",
       "      <td>None</td>\n",
       "    </tr>\n",
       "    <tr>\n",
       "      <th>13</th>\n",
       "      <td>0.150000</td>\n",
       "      <td>0.444312</td>\n",
       "      <td>None</td>\n",
       "      <td>None</td>\n",
       "    </tr>\n",
       "    <tr>\n",
       "      <th>14</th>\n",
       "      <td>0.150000</td>\n",
       "      <td>0.442936</td>\n",
       "      <td>None</td>\n",
       "      <td>None</td>\n",
       "    </tr>\n",
       "    <tr>\n",
       "      <th>15</th>\n",
       "      <td>0.150000</td>\n",
       "      <td>0.405000</td>\n",
       "      <td>None</td>\n",
       "      <td>None</td>\n",
       "    </tr>\n",
       "    <tr>\n",
       "      <th>16</th>\n",
       "      <td>0.150000</td>\n",
       "      <td>0.392059</td>\n",
       "      <td>None</td>\n",
       "      <td>None</td>\n",
       "    </tr>\n",
       "    <tr>\n",
       "      <th>17</th>\n",
       "      <td>0.626753</td>\n",
       "      <td>0.389060</td>\n",
       "      <td></td>\n",
       "      <td>TEN_GOP</td>\n",
       "    </tr>\n",
       "    <tr>\n",
       "      <th>18</th>\n",
       "      <td>0.150000</td>\n",
       "      <td>0.383750</td>\n",
       "      <td>None</td>\n",
       "      <td>None</td>\n",
       "    </tr>\n",
       "    <tr>\n",
       "      <th>19</th>\n",
       "      <td>1.392120</td>\n",
       "      <td>0.383471</td>\n",
       "      <td>1-800-WOKE-AF</td>\n",
       "      <td>gloed_up</td>\n",
       "    </tr>\n",
       "  </tbody>\n",
       "</table>\n",
       "</div>"
      ],
      "text/plain": [
       "    u.UserRank  u.mentionRank             u.name   u.screen_name\n",
       "0     0.150000       3.874117               None            None\n",
       "1     0.150000       2.104972               None            None\n",
       "2     0.150000       1.485917               None            None\n",
       "3     0.150000       1.334957               None            None\n",
       "4     0.150000       1.298425               None            None\n",
       "5     0.967054       0.967054       Darrell Hunt  Darrell_H_Hunt\n",
       "6     0.150000       0.959979               None            None\n",
       "7     0.150000       0.821459               None            None\n",
       "8     0.967055       0.551917  Warfare Worldwide       WarfareWW\n",
       "9     0.150000       0.534074               None            None\n",
       "10    0.150000       0.518408               None            None\n",
       "11    0.150000       0.512610               None            None\n",
       "12    0.150000       0.468750               None            None\n",
       "13    0.150000       0.444312               None            None\n",
       "14    0.150000       0.442936               None            None\n",
       "15    0.150000       0.405000               None            None\n",
       "16    0.150000       0.392059               None            None\n",
       "17    0.626753       0.389060                            TEN_GOP\n",
       "18    0.150000       0.383750               None            None\n",
       "19    1.392120       0.383471      1-800-WOKE-AF        gloed_up"
      ]
     },
     "execution_count": 33,
     "metadata": {},
     "output_type": "execute_result"
    }
   ],
   "source": [
    "DataFrame(twitter_troll_dataset.run(\"\"\"MATCH (u:User)\n",
    "RETURN u.name, u.screen_name, u.mentionRank, u.UserRank\n",
    "ORDER BY u.mentionRank desc LIMIT 20\"\"\").data())"
   ]
  },
  {
   "cell_type": "code",
   "execution_count": 34,
   "metadata": {
    "collapsed": false
   },
   "outputs": [
    {
     "data": {
      "text/plain": [
       "[{u'computeMillis': 247,\n",
       "  u'loadMillis': 217,\n",
       "  u'maxCentrality': -1.0,\n",
       "  u'minCentrality': -1.0,\n",
       "  u'nodes': 14273,\n",
       "  u'sumCentrality': -1.0,\n",
       "  u'writeMillis': 29}]"
      ]
     },
     "execution_count": 34,
     "metadata": {},
     "output_type": "execute_result"
    }
   ],
   "source": [
    "#Betweenness Centrality\n",
    "twitter_troll_dataset.run(\"\"\"call algo.betweenness('MATCH (u:User) return id(u) as id',\n",
    "'MATCH (u:User)-[:POSTED]->()<-[:RETWEETED|IN_REPLY_TO]-()<-[:POSTED]-(u2:User) return id(u) as source,id(u2) as target',\n",
    "{graph:'cypher',writeProperty:'Userbetweenness'});\"\"\").data()"
   ]
  },
  {
   "cell_type": "code",
   "execution_count": 35,
   "metadata": {
    "collapsed": false
   },
   "outputs": [
    {
     "data": {
      "text/html": [
       "<div>\n",
       "<table border=\"1\" class=\"dataframe\">\n",
       "  <thead>\n",
       "    <tr style=\"text-align: right;\">\n",
       "      <th></th>\n",
       "      <th>Screen_name</th>\n",
       "      <th>u.Userbetweenness</th>\n",
       "    </tr>\n",
       "  </thead>\n",
       "  <tbody>\n",
       "    <tr>\n",
       "      <th>0</th>\n",
       "      <td>JeanneMccarthy0</td>\n",
       "      <td>2825.479751</td>\n",
       "    </tr>\n",
       "    <tr>\n",
       "      <th>1</th>\n",
       "      <td>GiselleEvns</td>\n",
       "      <td>2590.016867</td>\n",
       "    </tr>\n",
       "    <tr>\n",
       "      <th>2</th>\n",
       "      <td>CassieWeltch</td>\n",
       "      <td>1006.438058</td>\n",
       "    </tr>\n",
       "    <tr>\n",
       "      <th>3</th>\n",
       "      <td>MelvinSRoberts</td>\n",
       "      <td>823.768866</td>\n",
       "    </tr>\n",
       "    <tr>\n",
       "      <th>4</th>\n",
       "      <td>DaileyJadon</td>\n",
       "      <td>806.972224</td>\n",
       "    </tr>\n",
       "  </tbody>\n",
       "</table>\n",
       "</div>"
      ],
      "text/plain": [
       "       Screen_name  u.Userbetweenness\n",
       "0  JeanneMccarthy0        2825.479751\n",
       "1      GiselleEvns        2590.016867\n",
       "2     CassieWeltch        1006.438058\n",
       "3   MelvinSRoberts         823.768866\n",
       "4      DaileyJadon         806.972224"
      ]
     },
     "execution_count": 35,
     "metadata": {},
     "output_type": "execute_result"
    }
   ],
   "source": [
    "DataFrame(twitter_troll_dataset.run(\"\"\"MATCH (u:User)\n",
    "RETURN u.screen_name as Screen_name, u.Userbetweenness\n",
    "ORDER BY u.Userbetweenness desc LIMIT 5\"\"\").data())"
   ]
  },
  {
   "cell_type": "code",
   "execution_count": 36,
   "metadata": {
    "collapsed": false
   },
   "outputs": [
    {
     "data": {
      "text/plain": [
       "[{u'computeMillis': 20,\n",
       "  u'loadMillis': 194,\n",
       "  u'nodes': 14273,\n",
       "  u'writeMillis': 27}]"
      ]
     },
     "execution_count": 36,
     "metadata": {},
     "output_type": "execute_result"
    }
   ],
   "source": [
    "twitter_troll_dataset.run(\"\"\"call algo.closeness('MATCH (u:User) return id(u) as id',\n",
    "'MATCH (u:User)-[:POSTED]->()<-[:RETWEETED|IN_REPLY_TO]-()<-[:POSTED]-(u2:User) return id(u) as source,id(u2) as target',\n",
    "{graph:'cypher',writeProperty:'Usercloseness'});\"\"\").data()"
   ]
  },
  {
   "cell_type": "code",
   "execution_count": 37,
   "metadata": {
    "collapsed": false
   },
   "outputs": [
    {
     "data": {
      "text/html": [
       "<div>\n",
       "<table border=\"1\" class=\"dataframe\">\n",
       "  <thead>\n",
       "    <tr style=\"text-align: right;\">\n",
       "      <th></th>\n",
       "      <th>Screen_name</th>\n",
       "      <th>u.Usercloseness</th>\n",
       "    </tr>\n",
       "  </thead>\n",
       "  <tbody>\n",
       "    <tr>\n",
       "      <th>0</th>\n",
       "      <td>Jenn_Abrams</td>\n",
       "      <td>79.000000</td>\n",
       "    </tr>\n",
       "    <tr>\n",
       "      <th>1</th>\n",
       "      <td>gloed_up</td>\n",
       "      <td>20.000000</td>\n",
       "    </tr>\n",
       "    <tr>\n",
       "      <th>2</th>\n",
       "      <td>BleepThePolice</td>\n",
       "      <td>13.333333</td>\n",
       "    </tr>\n",
       "    <tr>\n",
       "      <th>3</th>\n",
       "      <td>TrayneshaCole</td>\n",
       "      <td>13.333333</td>\n",
       "    </tr>\n",
       "    <tr>\n",
       "      <th>4</th>\n",
       "      <td>tpartynews</td>\n",
       "      <td>10.700000</td>\n",
       "    </tr>\n",
       "  </tbody>\n",
       "</table>\n",
       "</div>"
      ],
      "text/plain": [
       "      Screen_name  u.Usercloseness\n",
       "0     Jenn_Abrams        79.000000\n",
       "1        gloed_up        20.000000\n",
       "2  BleepThePolice        13.333333\n",
       "3   TrayneshaCole        13.333333\n",
       "4      tpartynews        10.700000"
      ]
     },
     "execution_count": 37,
     "metadata": {},
     "output_type": "execute_result"
    }
   ],
   "source": [
    "#Closeness Centrality\n",
    "DataFrame(twitter_troll_dataset.run(\"\"\"MATCH (u:User)\n",
    "RETURN u.screen_name as Screen_name, u.Usercloseness\n",
    "ORDER BY u.Usercloseness desc LIMIT 5\"\"\").data())"
   ]
  },
  {
   "cell_type": "code",
   "execution_count": 38,
   "metadata": {
    "collapsed": false
   },
   "outputs": [
    {
     "data": {
      "text/plain": [
       "[{u'computeMillis': 7,\n",
       "  u'dampingFactor': 1.0,\n",
       "  u'iterations': 20,\n",
       "  u'loadMillis': 223,\n",
       "  u'nodes': 14273,\n",
       "  u'write': True,\n",
       "  u'writeMillis': 30,\n",
       "  u'writeProperty': u'eigenvector'}]"
      ]
     },
     "execution_count": 38,
     "metadata": {},
     "output_type": "execute_result"
    }
   ],
   "source": [
    "#Eigen Centrality\n",
    "twitter_troll_dataset.run(\"\"\"call algo.eigenvector('MATCH (u:User) return id(u) as id',\n",
    "'MATCH (u:User)-[:POSTED]->()<-[:RETWEETED|IN_REPLY_TO]-()<-[:POSTED]-(u2:User) return id(u) as source,id(u2) as target',\n",
    "{graph:'cypher',writeProperty:'eigenvector'});\"\"\").data()\n"
   ]
  },
  {
   "cell_type": "code",
   "execution_count": 39,
   "metadata": {
    "collapsed": false
   },
   "outputs": [
    {
     "data": {
      "text/html": [
       "<div>\n",
       "<table border=\"1\" class=\"dataframe\">\n",
       "  <thead>\n",
       "    <tr style=\"text-align: right;\">\n",
       "      <th></th>\n",
       "      <th>u.UserRank</th>\n",
       "      <th>u.eigenvector</th>\n",
       "      <th>u.name</th>\n",
       "      <th>u.screen_name</th>\n",
       "    </tr>\n",
       "  </thead>\n",
       "  <tbody>\n",
       "    <tr>\n",
       "      <th>0</th>\n",
       "      <td>5.652868</td>\n",
       "      <td>1539.662131</td>\n",
       "      <td>Giselle Evans</td>\n",
       "      <td>GiselleEvns</td>\n",
       "    </tr>\n",
       "    <tr>\n",
       "      <th>1</th>\n",
       "      <td>2.530552</td>\n",
       "      <td>712.766092</td>\n",
       "      <td>Fluffy Melvin</td>\n",
       "      <td>MelvinSRoberts</td>\n",
       "    </tr>\n",
       "    <tr>\n",
       "      <th>2</th>\n",
       "      <td>1.976709</td>\n",
       "      <td>375.421908</td>\n",
       "      <td>David Collier</td>\n",
       "      <td>pureDavie</td>\n",
       "    </tr>\n",
       "    <tr>\n",
       "      <th>3</th>\n",
       "      <td>0.830310</td>\n",
       "      <td>137.020342</td>\n",
       "      <td>World Of Hashtags</td>\n",
       "      <td>WorldOfHashtags</td>\n",
       "    </tr>\n",
       "    <tr>\n",
       "      <th>4</th>\n",
       "      <td>1.084580</td>\n",
       "      <td>132.276469</td>\n",
       "      <td>Tracy Brooks</td>\n",
       "      <td>traceyhappymom</td>\n",
       "    </tr>\n",
       "    <tr>\n",
       "      <th>5</th>\n",
       "      <td>1.222317</td>\n",
       "      <td>130.490261</td>\n",
       "      <td>Jadon Dailey</td>\n",
       "      <td>DaileyJadon</td>\n",
       "    </tr>\n",
       "    <tr>\n",
       "      <th>6</th>\n",
       "      <td>1.073389</td>\n",
       "      <td>116.512504</td>\n",
       "      <td>Kathie</td>\n",
       "      <td>KathieMrr</td>\n",
       "    </tr>\n",
       "    <tr>\n",
       "      <th>7</th>\n",
       "      <td>1.031575</td>\n",
       "      <td>116.330877</td>\n",
       "      <td>Rita Hart</td>\n",
       "      <td>NotRitaHart</td>\n",
       "    </tr>\n",
       "    <tr>\n",
       "      <th>8</th>\n",
       "      <td>1.062163</td>\n",
       "      <td>115.497493</td>\n",
       "      <td>Jacky</td>\n",
       "      <td>queenofthewo</td>\n",
       "    </tr>\n",
       "    <tr>\n",
       "      <th>9</th>\n",
       "      <td>1.170692</td>\n",
       "      <td>103.678256</td>\n",
       "      <td>Cassie Weltch</td>\n",
       "      <td>CassieWeltch</td>\n",
       "    </tr>\n",
       "  </tbody>\n",
       "</table>\n",
       "</div>"
      ],
      "text/plain": [
       "   u.UserRank  u.eigenvector             u.name    u.screen_name\n",
       "0    5.652868    1539.662131      Giselle Evans      GiselleEvns\n",
       "1    2.530552     712.766092      Fluffy Melvin   MelvinSRoberts\n",
       "2    1.976709     375.421908      David Collier        pureDavie\n",
       "3    0.830310     137.020342  World Of Hashtags  WorldOfHashtags\n",
       "4    1.084580     132.276469       Tracy Brooks   traceyhappymom\n",
       "5    1.222317     130.490261       Jadon Dailey      DaileyJadon\n",
       "6    1.073389     116.512504             Kathie        KathieMrr\n",
       "7    1.031575     116.330877          Rita Hart      NotRitaHart\n",
       "8    1.062163     115.497493              Jacky     queenofthewo\n",
       "9    1.170692     103.678256      Cassie Weltch     CassieWeltch"
      ]
     },
     "execution_count": 39,
     "metadata": {},
     "output_type": "execute_result"
    }
   ],
   "source": [
    "DataFrame(twitter_troll_dataset.run(\"\"\"MATCH (u:User)\n",
    "RETURN u.name, u.screen_name, u.eigenvector,u.UserRank\n",
    "ORDER BY u.eigenvector desc LIMIT 10\"\"\").data())"
   ]
  },
  {
   "cell_type": "code",
   "execution_count": 40,
   "metadata": {
    "collapsed": false
   },
   "outputs": [
    {
     "data": {
      "text/plain": [
       "[{u'computeMillis': 6,\n",
       "  u'dampingFactor': 1.0,\n",
       "  u'iterations': 20,\n",
       "  u'loadMillis': 212,\n",
       "  u'nodes': 14273,\n",
       "  u'write': True,\n",
       "  u'writeMillis': 24,\n",
       "  u'writeProperty': u'eigenvector2'}]"
      ]
     },
     "execution_count": 40,
     "metadata": {},
     "output_type": "execute_result"
    }
   ],
   "source": [
    "#Eigen Centrality with normalization\n",
    "twitter_troll_dataset.run(\"\"\"call algo.eigenvector('MATCH (u:User) return id(u) as id',\n",
    "'MATCH (u:User)-[:POSTED]->()<-[:RETWEETED|IN_REPLY_TO]-()<-[:POSTED]-(u2:User) return id(u) as source,id(u2) as target',\n",
    "{normalization: \"max\",graph:'cypher',writeProperty:'eigenvector2'});\"\"\").data()"
   ]
  },
  {
   "cell_type": "code",
   "execution_count": 41,
   "metadata": {
    "collapsed": false
   },
   "outputs": [
    {
     "data": {
      "text/html": [
       "<div>\n",
       "<table border=\"1\" class=\"dataframe\">\n",
       "  <thead>\n",
       "    <tr style=\"text-align: right;\">\n",
       "      <th></th>\n",
       "      <th>u.UserRank</th>\n",
       "      <th>u.eigenvector2</th>\n",
       "      <th>u.name</th>\n",
       "      <th>u.screen_name</th>\n",
       "    </tr>\n",
       "  </thead>\n",
       "  <tbody>\n",
       "    <tr>\n",
       "      <th>0</th>\n",
       "      <td>5.652868</td>\n",
       "      <td>1.000000</td>\n",
       "      <td>Giselle Evans</td>\n",
       "      <td>GiselleEvns</td>\n",
       "    </tr>\n",
       "    <tr>\n",
       "      <th>1</th>\n",
       "      <td>2.530552</td>\n",
       "      <td>0.462937</td>\n",
       "      <td>Fluffy Melvin</td>\n",
       "      <td>MelvinSRoberts</td>\n",
       "    </tr>\n",
       "    <tr>\n",
       "      <th>2</th>\n",
       "      <td>1.976709</td>\n",
       "      <td>0.243834</td>\n",
       "      <td>David Collier</td>\n",
       "      <td>pureDavie</td>\n",
       "    </tr>\n",
       "    <tr>\n",
       "      <th>3</th>\n",
       "      <td>0.830310</td>\n",
       "      <td>0.088994</td>\n",
       "      <td>World Of Hashtags</td>\n",
       "      <td>WorldOfHashtags</td>\n",
       "    </tr>\n",
       "    <tr>\n",
       "      <th>4</th>\n",
       "      <td>1.084580</td>\n",
       "      <td>0.085913</td>\n",
       "      <td>Tracy Brooks</td>\n",
       "      <td>traceyhappymom</td>\n",
       "    </tr>\n",
       "    <tr>\n",
       "      <th>5</th>\n",
       "      <td>1.222317</td>\n",
       "      <td>0.084753</td>\n",
       "      <td>Jadon Dailey</td>\n",
       "      <td>DaileyJadon</td>\n",
       "    </tr>\n",
       "    <tr>\n",
       "      <th>6</th>\n",
       "      <td>1.073389</td>\n",
       "      <td>0.075674</td>\n",
       "      <td>Kathie</td>\n",
       "      <td>KathieMrr</td>\n",
       "    </tr>\n",
       "    <tr>\n",
       "      <th>7</th>\n",
       "      <td>1.031575</td>\n",
       "      <td>0.075556</td>\n",
       "      <td>Rita Hart</td>\n",
       "      <td>NotRitaHart</td>\n",
       "    </tr>\n",
       "    <tr>\n",
       "      <th>8</th>\n",
       "      <td>1.062163</td>\n",
       "      <td>0.075015</td>\n",
       "      <td>Jacky</td>\n",
       "      <td>queenofthewo</td>\n",
       "    </tr>\n",
       "    <tr>\n",
       "      <th>9</th>\n",
       "      <td>1.170692</td>\n",
       "      <td>0.067338</td>\n",
       "      <td>Cassie Weltch</td>\n",
       "      <td>CassieWeltch</td>\n",
       "    </tr>\n",
       "  </tbody>\n",
       "</table>\n",
       "</div>"
      ],
      "text/plain": [
       "   u.UserRank  u.eigenvector2             u.name    u.screen_name\n",
       "0    5.652868        1.000000      Giselle Evans      GiselleEvns\n",
       "1    2.530552        0.462937      Fluffy Melvin   MelvinSRoberts\n",
       "2    1.976709        0.243834      David Collier        pureDavie\n",
       "3    0.830310        0.088994  World Of Hashtags  WorldOfHashtags\n",
       "4    1.084580        0.085913       Tracy Brooks   traceyhappymom\n",
       "5    1.222317        0.084753       Jadon Dailey      DaileyJadon\n",
       "6    1.073389        0.075674             Kathie        KathieMrr\n",
       "7    1.031575        0.075556          Rita Hart      NotRitaHart\n",
       "8    1.062163        0.075015              Jacky     queenofthewo\n",
       "9    1.170692        0.067338      Cassie Weltch     CassieWeltch"
      ]
     },
     "execution_count": 41,
     "metadata": {},
     "output_type": "execute_result"
    }
   ],
   "source": [
    "DataFrame(twitter_troll_dataset.run(\"\"\"MATCH (u:User)\n",
    "RETURN u.name, u.screen_name, u.eigenvector2,u.UserRank\n",
    "ORDER BY u.eigenvector2 desc LIMIT 10\"\"\").data())"
   ]
  },
  {
   "cell_type": "code",
   "execution_count": 42,
   "metadata": {
    "collapsed": false
   },
   "outputs": [
    {
     "data": {
      "text/plain": [
       "[{u'communityCount': 14129,\n",
       "  u'computeMillis': 14,\n",
       "  u'loadMillis': 198,\n",
       "  u'nodes': 14273,\n",
       "  u'p1': 1,\n",
       "  u'p10': 1,\n",
       "  u'p100': 141,\n",
       "  u'p25': 1,\n",
       "  u'p5': 1,\n",
       "  u'p50': 1,\n",
       "  u'p75': 1,\n",
       "  u'p90': 1,\n",
       "  u'p95': 1,\n",
       "  u'p99': 1,\n",
       "  u'partitionProperty': u'community',\n",
       "  u'postProcessingMillis': 1,\n",
       "  u'setCount': 14129,\n",
       "  u'write': True,\n",
       "  u'writeMillis': 25,\n",
       "  u'writeProperty': u'community'}]"
      ]
     },
     "execution_count": 42,
     "metadata": {},
     "output_type": "execute_result"
    }
   ],
   "source": [
    "#Community Detection : The users who are present in the same community\n",
    "twitter_troll_dataset.run(\"\"\"call algo.unionFind('MATCH (u:User) RETURN id(u) as id',\n",
    "'MATCH (u:User)-[:POSTED]->()<-[:RETWEETED|IN_REPLY_TO]-()<-[:POSTED]-(u2:User) RETURN id(u) as source,id(u2) as target',\n",
    "{graph:'cypher',partitionProperty: \"community\"})\"\"\").data()"
   ]
  },
  {
   "cell_type": "code",
   "execution_count": 43,
   "metadata": {
    "collapsed": false
   },
   "outputs": [
    {
     "data": {
      "text/html": [
       "<div>\n",
       "<table border=\"1\" class=\"dataframe\">\n",
       "  <thead>\n",
       "    <tr style=\"text-align: right;\">\n",
       "      <th></th>\n",
       "      <th>community</th>\n",
       "      <th>count_nodes</th>\n",
       "      <th>nodes_in_community[..10]</th>\n",
       "    </tr>\n",
       "  </thead>\n",
       "  <tbody>\n",
       "    <tr>\n",
       "      <th>0</th>\n",
       "      <td>20</td>\n",
       "      <td>141</td>\n",
       "      <td>[NoJonathonNo, CharlesJHarper, PrettyLaraPlace...</td>\n",
       "    </tr>\n",
       "    <tr>\n",
       "      <th>1</th>\n",
       "      <td>342</td>\n",
       "      <td>3</td>\n",
       "      <td>[russilanrogov, LavrovMuesli, WhiteHouseCards]</td>\n",
       "    </tr>\n",
       "    <tr>\n",
       "      <th>2</th>\n",
       "      <td>0</td>\n",
       "      <td>2</td>\n",
       "      <td>[SCOTTGOHARD, Siccerthanyou]</td>\n",
       "    </tr>\n",
       "    <tr>\n",
       "      <th>3</th>\n",
       "      <td>346</td>\n",
       "      <td>2</td>\n",
       "      <td>[erdollum, berkhoff85]</td>\n",
       "    </tr>\n",
       "    <tr>\n",
       "      <th>4</th>\n",
       "      <td>5</td>\n",
       "      <td>1</td>\n",
       "      <td>[darknally]</td>\n",
       "    </tr>\n",
       "    <tr>\n",
       "      <th>5</th>\n",
       "      <td>6</td>\n",
       "      <td>1</td>\n",
       "      <td>[lagonehoe]</td>\n",
       "    </tr>\n",
       "    <tr>\n",
       "      <th>6</th>\n",
       "      <td>2</td>\n",
       "      <td>1</td>\n",
       "      <td>[skatewake1994]</td>\n",
       "    </tr>\n",
       "    <tr>\n",
       "      <th>7</th>\n",
       "      <td>4</td>\n",
       "      <td>1</td>\n",
       "      <td>[MargoSavazh]</td>\n",
       "    </tr>\n",
       "    <tr>\n",
       "      <th>8</th>\n",
       "      <td>8</td>\n",
       "      <td>1</td>\n",
       "      <td>[MrMoraan]</td>\n",
       "    </tr>\n",
       "    <tr>\n",
       "      <th>9</th>\n",
       "      <td>7</td>\n",
       "      <td>1</td>\n",
       "      <td>[YouJustCtrlC]</td>\n",
       "    </tr>\n",
       "  </tbody>\n",
       "</table>\n",
       "</div>"
      ],
      "text/plain": [
       "   community  count_nodes                           nodes_in_community[..10]\n",
       "0         20          141  [NoJonathonNo, CharlesJHarper, PrettyLaraPlace...\n",
       "1        342            3     [russilanrogov, LavrovMuesli, WhiteHouseCards]\n",
       "2          0            2                       [SCOTTGOHARD, Siccerthanyou]\n",
       "3        346            2                             [erdollum, berkhoff85]\n",
       "4          5            1                                        [darknally]\n",
       "5          6            1                                        [lagonehoe]\n",
       "6          2            1                                    [skatewake1994]\n",
       "7          4            1                                      [MargoSavazh]\n",
       "8          8            1                                         [MrMoraan]\n",
       "9          7            1                                     [YouJustCtrlC]"
      ]
     },
     "execution_count": 43,
     "metadata": {},
     "output_type": "execute_result"
    }
   ],
   "source": [
    "#To check the nodes and the total nodes present in a union algo community\n",
    "DataFrame(twitter_troll_dataset.run(\"\"\"MATCH (u:User)\n",
    "WITH u.community as community,collect(u.screen_name) as nodes_in_community,count(*) as count_nodes\n",
    "RETURN community,nodes_in_community[..10],count_nodes ORDER BY count_nodes DESC\n",
    "LIMIT 10\"\"\").data())"
   ]
  },
  {
   "cell_type": "code",
   "execution_count": 44,
   "metadata": {
    "collapsed": false
   },
   "outputs": [
    {
     "data": {
      "text/plain": [
       "[{u'communityCount': 14193,\n",
       "  u'computeMillis': 10,\n",
       "  u'didConverge': False,\n",
       "  u'iterations': 1,\n",
       "  u'loadMillis': 519,\n",
       "  u'nodes': 14273,\n",
       "  u'p1': 1,\n",
       "  u'p10': 1,\n",
       "  u'p100': 27,\n",
       "  u'p25': 1,\n",
       "  u'p5': 1,\n",
       "  u'p50': 1,\n",
       "  u'p75': 1,\n",
       "  u'p90': 1,\n",
       "  u'p95': 1,\n",
       "  u'p99': 1,\n",
       "  u'partitionProperty': u'label',\n",
       "  u'postProcessingMillis': 26,\n",
       "  u'weightProperty': u'weight',\n",
       "  u'write': True,\n",
       "  u'writeMillis': 1,\n",
       "  u'writeProperty': u'label'}]"
      ]
     },
     "execution_count": 44,
     "metadata": {},
     "output_type": "execute_result"
    }
   ],
   "source": [
    "#Label Propogation community Detection\n",
    "twitter_troll_dataset.run(\"\"\"call algo.labelPropagation('MATCH (u:User) return id(u) as id',\n",
    "'MATCH (u:User)-[:POSTED]->()<-[:RETWEETED|IN_REPLY_TO]-()<-[:POSTED]-(u2:User) return id(u) as source,id(u2) as target','Outgoing',\n",
    "{graph:'cypher',partitionProperty: \"label\"});\n",
    "\"\"\").data()"
   ]
  },
  {
   "cell_type": "code",
   "execution_count": 45,
   "metadata": {
    "collapsed": false
   },
   "outputs": [
    {
     "data": {
      "text/html": [
       "<div>\n",
       "<table border=\"1\" class=\"dataframe\">\n",
       "  <thead>\n",
       "    <tr style=\"text-align: right;\">\n",
       "      <th></th>\n",
       "      <th>community</th>\n",
       "      <th>count_nodes</th>\n",
       "      <th>nodes_in_community</th>\n",
       "    </tr>\n",
       "  </thead>\n",
       "  <tbody>\n",
       "    <tr>\n",
       "      <th>0</th>\n",
       "      <td>17</td>\n",
       "      <td>27</td>\n",
       "      <td>[JeffreyKahunas, CarrieThornthon, WesternWindW...</td>\n",
       "    </tr>\n",
       "    <tr>\n",
       "      <th>1</th>\n",
       "      <td>188</td>\n",
       "      <td>20</td>\n",
       "      <td>[IlikeBIGbuttand, DaileyJadon, Gab1Aldana, Mel...</td>\n",
       "    </tr>\n",
       "    <tr>\n",
       "      <th>2</th>\n",
       "      <td>90</td>\n",
       "      <td>7</td>\n",
       "      <td>[mrclydepratt, PaolaKinck, happkendrahappy, bl...</td>\n",
       "    </tr>\n",
       "    <tr>\n",
       "      <th>3</th>\n",
       "      <td>44</td>\n",
       "      <td>5</td>\n",
       "      <td>[TEN_GOP, tpartynews, rightnpr, RealTEN_GOP, M...</td>\n",
       "    </tr>\n",
       "    <tr>\n",
       "      <th>4</th>\n",
       "      <td>91</td>\n",
       "      <td>5</td>\n",
       "      <td>[hyddrox, DorothieBell, Stanley_Cox_, SouthLon...</td>\n",
       "    </tr>\n",
       "    <tr>\n",
       "      <th>5</th>\n",
       "      <td>207</td>\n",
       "      <td>5</td>\n",
       "      <td>[Adrienne_GG, CurtisBigMan, dannythehappies, h...</td>\n",
       "    </tr>\n",
       "    <tr>\n",
       "      <th>6</th>\n",
       "      <td>228</td>\n",
       "      <td>4</td>\n",
       "      <td>[cassishere, JeanneMccarthy0, Kelvin_Chambers,...</td>\n",
       "    </tr>\n",
       "    <tr>\n",
       "      <th>7</th>\n",
       "      <td>61</td>\n",
       "      <td>3</td>\n",
       "      <td>[ArchieOlivers, LazyKStafford, Danny_Turner_1]</td>\n",
       "    </tr>\n",
       "    <tr>\n",
       "      <th>8</th>\n",
       "      <td>89</td>\n",
       "      <td>3</td>\n",
       "      <td>[CharlesJHarper, HellieEdwards, DonnieLMiller]</td>\n",
       "    </tr>\n",
       "    <tr>\n",
       "      <th>9</th>\n",
       "      <td>206</td>\n",
       "      <td>3</td>\n",
       "      <td>[BleepThePolice, gloed_up, TrayneshaCole]</td>\n",
       "    </tr>\n",
       "  </tbody>\n",
       "</table>\n",
       "</div>"
      ],
      "text/plain": [
       "   community  count_nodes                                 nodes_in_community\n",
       "0         17           27  [JeffreyKahunas, CarrieThornthon, WesternWindW...\n",
       "1        188           20  [IlikeBIGbuttand, DaileyJadon, Gab1Aldana, Mel...\n",
       "2         90            7  [mrclydepratt, PaolaKinck, happkendrahappy, bl...\n",
       "3         44            5  [TEN_GOP, tpartynews, rightnpr, RealTEN_GOP, M...\n",
       "4         91            5  [hyddrox, DorothieBell, Stanley_Cox_, SouthLon...\n",
       "5        207            5  [Adrienne_GG, CurtisBigMan, dannythehappies, h...\n",
       "6        228            4  [cassishere, JeanneMccarthy0, Kelvin_Chambers,...\n",
       "7         61            3     [ArchieOlivers, LazyKStafford, Danny_Turner_1]\n",
       "8         89            3     [CharlesJHarper, HellieEdwards, DonnieLMiller]\n",
       "9        206            3          [BleepThePolice, gloed_up, TrayneshaCole]"
      ]
     },
     "execution_count": 45,
     "metadata": {},
     "output_type": "execute_result"
    }
   ],
   "source": [
    "#To check the nodes and the total nodes present in a community using label propgation\n",
    "DataFrame(twitter_troll_dataset.run(\"\"\"MATCH (u:User)\n",
    "RETURN u.label as community,collect(u.screen_name) as nodes_in_community,count(*) as count_nodes ORDER BY count_nodes DESC\n",
    "LIMIT 10\"\"\").data())"
   ]
  },
  {
   "cell_type": "code",
   "execution_count": 46,
   "metadata": {
    "collapsed": false
   },
   "outputs": [
    {
     "data": {
      "text/plain": [
       "[]"
      ]
     },
     "execution_count": 46,
     "metadata": {},
     "output_type": "execute_result"
    }
   ],
   "source": [
    "#Added a new_label called union_Group for a close clustering community\n",
    "twitter_troll_dataset.run(\"\"\"match (u:User)\n",
    "with u order by u.pagerank desc\n",
    "with u.community as union_region, count(*) as num, collect(u) as users,head(collect(u.screen_name)) as regionName order by num desc\n",
    "limit 50\n",
    "foreach (u in users | \n",
    "     set u:UnionCommunity set u.regionName = regionName)\"\"\").data()"
   ]
  },
  {
   "cell_type": "code",
   "execution_count": 47,
   "metadata": {
    "collapsed": false
   },
   "outputs": [
    {
     "data": {
      "text/plain": [
       "[]"
      ]
     },
     "execution_count": 47,
     "metadata": {},
     "output_type": "execute_result"
    }
   ],
   "source": [
    "#Added a community called labelpropogation based on the label propogation method for finding close clustering nodes in a community\n",
    "twitter_troll_dataset.run(\"\"\"match (u:User)\n",
    "with u order by u.pagerank desc\n",
    "with u.label as label_region, count(*) as num, collect(u) as users,head(collect(u.screen_name)) as regionName order by num desc\n",
    "limit 50\n",
    "foreach (u in users | \n",
    "     set u:labelPropogationCommunity set u.regionName = regionName)\"\"\").data()"
   ]
  },
  {
   "cell_type": "code",
   "execution_count": 48,
   "metadata": {
    "collapsed": false
   },
   "outputs": [
    {
     "data": {
      "text/html": [
       "<div>\n",
       "<table border=\"1\" class=\"dataframe\">\n",
       "  <thead>\n",
       "    <tr style=\"text-align: right;\">\n",
       "      <th></th>\n",
       "      <th>Hashtag</th>\n",
       "      <th>Tweet_ID</th>\n",
       "      <th>Tweet_Text</th>\n",
       "      <th>screen_name</th>\n",
       "    </tr>\n",
       "  </thead>\n",
       "  <tbody>\n",
       "    <tr>\n",
       "      <th>0</th>\n",
       "      <td>[p2, tcot]</td>\n",
       "      <td>785763510802259969</td>\n",
       "      <td>RT @ZaibatsuNews: Trump's Extremist Bigotry Ag...</td>\n",
       "      <td>NoJonathonNo</td>\n",
       "    </tr>\n",
       "    <tr>\n",
       "      <th>1</th>\n",
       "      <td>[rnc]</td>\n",
       "      <td>762218612656631808</td>\n",
       "      <td>RT @StopMassIncNet: Defend flag burners at #RN...</td>\n",
       "      <td>NoJonathonNo</td>\n",
       "    </tr>\n",
       "    <tr>\n",
       "      <th>2</th>\n",
       "      <td>[maga, pjnet, ccot, tcot]</td>\n",
       "      <td>784296955379785728</td>\n",
       "      <td>RT @ZaibatsuNews: Trump adult film cameo unear...</td>\n",
       "      <td>NoJonathonNo</td>\n",
       "    </tr>\n",
       "    <tr>\n",
       "      <th>3</th>\n",
       "      <td>[blacklivesmatter, mississippi, blm, trump]</td>\n",
       "      <td>794035904256020480</td>\n",
       "      <td>RT @RDCresearcher: 'Vote #Trump' painted on bl...</td>\n",
       "      <td>NoJonathonNo</td>\n",
       "    </tr>\n",
       "    <tr>\n",
       "      <th>4</th>\n",
       "      <td>[pjnet, maga, ccot, tcot]</td>\n",
       "      <td>796862352331337729</td>\n",
       "      <td>RT @ZaibatsuNews: Trump adult film cameo unear...</td>\n",
       "      <td>NoJonathonNo</td>\n",
       "    </tr>\n",
       "  </tbody>\n",
       "</table>\n",
       "</div>"
      ],
      "text/plain": [
       "                                       Hashtag            Tweet_ID  \\\n",
       "0                                   [p2, tcot]  785763510802259969   \n",
       "1                                        [rnc]  762218612656631808   \n",
       "2                    [maga, pjnet, ccot, tcot]  784296955379785728   \n",
       "3  [blacklivesmatter, mississippi, blm, trump]  794035904256020480   \n",
       "4                    [pjnet, maga, ccot, tcot]  796862352331337729   \n",
       "\n",
       "                                          Tweet_Text   screen_name  \n",
       "0  RT @ZaibatsuNews: Trump's Extremist Bigotry Ag...  NoJonathonNo  \n",
       "1  RT @StopMassIncNet: Defend flag burners at #RN...  NoJonathonNo  \n",
       "2  RT @ZaibatsuNews: Trump adult film cameo unear...  NoJonathonNo  \n",
       "3  RT @RDCresearcher: 'Vote #Trump' painted on bl...  NoJonathonNo  \n",
       "4  RT @ZaibatsuNews: Trump adult film cameo unear...  NoJonathonNo  "
      ]
     },
     "execution_count": 48,
     "metadata": {},
     "output_type": "execute_result"
    }
   ],
   "source": [
    "#Collecting dataset which is important for the community 20 and storing it in a dataset_hashtags\n",
    "dataset_hashtags=DataFrame(twitter_troll_dataset.run(\"\"\"MATCH (u:User{community:20})-[:POSTED]->(t:Tweet)-[:HAS_TAG]->(h:Hashtag)\n",
    "return distinct(u.screen_name) as screen_name,t.id as Tweet_ID,t.text as Tweet_Text,collect(h.tag) as Hashtag\"\"\").data())\n",
    "dataset_hashtags.head()"
   ]
  },
  {
   "cell_type": "code",
   "execution_count": 49,
   "metadata": {
    "collapsed": false
   },
   "outputs": [
    {
     "data": {
      "image/png": "[encoded data removed]",
      "text/plain": [
       "<PIL.Image.Image image mode=RGB size=400x200 at 0x20B97F60>"
      ]
     },
     "execution_count": 49,
     "metadata": {},
     "output_type": "execute_result"
    }
   ],
   "source": [
    "#Extracted data of a community and making a wordcloud to understand what people are thinking of the same community\n",
    "WordCloud().generate(str(dataset_hashtags['Hashtag'])).to_image()"
   ]
  },
  {
   "cell_type": "code",
   "execution_count": 50,
   "metadata": {
    "collapsed": false
   },
   "outputs": [
    {
     "name": "stdout",
     "output_type": "stream",
     "text": [
      "(73390, 4)\n",
      "Hashtag        object\n",
      "Tweet_ID       object\n",
      "Tweet_Text     object\n",
      "screen_name    object\n",
      "dtype: object\n"
     ]
    },
    {
     "data": {
      "text/plain": [
       "0    RT @ZaibatsuNews: Trump's Extremist Bigotry Ag...\n",
       "1    RT @StopMassIncNet: Defend flag burners at #RN...\n",
       "2    RT @ZaibatsuNews: Trump adult film cameo unear...\n",
       "3    RT @RDCresearcher: 'Vote #Trump' painted on bl...\n",
       "4    RT @ZaibatsuNews: Trump adult film cameo unear...\n",
       "5    RT @ZaibatsuNews: In Disastrous Interview, Mik...\n",
       "6    RT @Petergrand: Is that the land I'm beginning...\n",
       "7    RT @realGeorgeTorr: @ananavarro rips another #...\n",
       "8    RT @ZaibatsuNews: Trump campaign confessed to ...\n",
       "9    RT @ProgPoli: #HillaryClinton will win the pop...\n",
       "Name: Tweet_Text, dtype: object"
      ]
     },
     "execution_count": 50,
     "metadata": {},
     "output_type": "execute_result"
    }
   ],
   "source": [
    "#SENTIMENT ANALYSIS\n",
    "#Extracted description text of community which contains most influential people and extracted sentiments via text and analysed it later \n",
    "#cHECKING IF ANY NULL VALUES PRESENT and the type of dataset\n",
    "print(dataset_hashtags.shape)\n",
    "print(dataset_hashtags.dtypes)\n",
    "dataset_hashtags.isnull().sum().sort_values(ascending = False)\n",
    "dataset_hashtags['Tweet_Text'].head(10)"
   ]
  },
  {
   "cell_type": "code",
   "execution_count": 51,
   "metadata": {
    "collapsed": false
   },
   "outputs": [],
   "source": [
    "#DATA PREPROCESSING\n",
    "dataset_hashtags['Tweet_Text']=dataset_hashtags['Tweet_Text'].str.lower()\n",
    "dataset_hashtags['Tweet_Text']=dataset_hashtags['Tweet_Text'].str.replace(\"^rt.*?:\", \" \")\n"
   ]
  },
  {
   "cell_type": "code",
   "execution_count": 52,
   "metadata": {
    "collapsed": true
   },
   "outputs": [],
   "source": [
    "#DATA PREPROCESSING : Continued\n",
    "#Removing hashtags\n",
    "dataset_hashtags['Tweet_Text']=dataset_hashtags['Tweet_Text'].str.replace(\"(#[^#\\s]+)\",'')\n",
    "#Removing Links\n",
    "dataset_hashtags['Tweet_Text']=dataset_hashtags['Tweet_Text'].str.replace(\"(https://[^\\s]+)\",'')\n",
    "#Removing characters other than alphabets\n",
    "dataset_hashtags['Tweet_Text']=dataset_hashtags['Tweet_Text'].str.replace(\"[^a-zA-Z]\", \" \")\n"
   ]
  },
  {
   "cell_type": "code",
   "execution_count": 53,
   "metadata": {
    "collapsed": false
   },
   "outputs": [
    {
     "data": {
      "text/html": [
       "<div>\n",
       "<table border=\"1\" class=\"dataframe\">\n",
       "  <thead>\n",
       "    <tr style=\"text-align: right;\">\n",
       "      <th></th>\n",
       "      <th>Hashtag</th>\n",
       "      <th>Tweet_ID</th>\n",
       "      <th>Tweet_Text</th>\n",
       "      <th>screen_name</th>\n",
       "    </tr>\n",
       "  </thead>\n",
       "  <tbody>\n",
       "    <tr>\n",
       "      <th>0</th>\n",
       "      <td>[p2, tcot]</td>\n",
       "      <td>785763510802259969</td>\n",
       "      <td>trump s extremist bigotry against muslims is now the moderate gop position</td>\n",
       "      <td>NoJonathonNo</td>\n",
       "    </tr>\n",
       "    <tr>\n",
       "      <th>1</th>\n",
       "      <td>[rnc]</td>\n",
       "      <td>762218612656631808</td>\n",
       "      <td>defend flag burners at  demand the charges be dropped  donate to cover court costs   https</td>\n",
       "      <td>NoJonathonNo</td>\n",
       "    </tr>\n",
       "    <tr>\n",
       "      <th>2</th>\n",
       "      <td>[maga, pjnet, ccot, tcot]</td>\n",
       "      <td>784296955379785728</td>\n",
       "      <td>trump adult film cameo unearthed by buzzfeed</td>\n",
       "      <td>NoJonathonNo</td>\n",
       "    </tr>\n",
       "    <tr>\n",
       "      <th>3</th>\n",
       "      <td>[blacklivesmatter, mississippi, blm, trump]</td>\n",
       "      <td>794035904256020480</td>\n",
       "      <td>vote  painted on black church set ablaze in</td>\n",
       "      <td>NoJonathonNo</td>\n",
       "    </tr>\n",
       "    <tr>\n",
       "      <th>4</th>\n",
       "      <td>[pjnet, maga, ccot, tcot]</td>\n",
       "      <td>796862352331337729</td>\n",
       "      <td>trump adult film cameo unearthed by buzzfeed</td>\n",
       "      <td>NoJonathonNo</td>\n",
       "    </tr>\n",
       "  </tbody>\n",
       "</table>\n",
       "</div>"
      ],
      "text/plain": [
       "                                       Hashtag            Tweet_ID  \\\n",
       "0  [p2, tcot]                                   785763510802259969   \n",
       "1  [rnc]                                        762218612656631808   \n",
       "2  [maga, pjnet, ccot, tcot]                    784296955379785728   \n",
       "3  [blacklivesmatter, mississippi, blm, trump]  794035904256020480   \n",
       "4  [pjnet, maga, ccot, tcot]                    796862352331337729   \n",
       "\n",
       "                                                                                       Tweet_Text  \\\n",
       "0    trump s extremist bigotry against muslims is now the moderate gop position                     \n",
       "1    defend flag burners at  demand the charges be dropped  donate to cover court costs   https     \n",
       "2    trump adult film cameo unearthed by buzzfeed                                                   \n",
       "3     vote  painted on black church set ablaze in                                                   \n",
       "4    trump adult film cameo unearthed by buzzfeed                                                   \n",
       "\n",
       "    screen_name  \n",
       "0  NoJonathonNo  \n",
       "1  NoJonathonNo  \n",
       "2  NoJonathonNo  \n",
       "3  NoJonathonNo  \n",
       "4  NoJonathonNo  "
      ]
     },
     "execution_count": 53,
     "metadata": {},
     "output_type": "execute_result"
    }
   ],
   "source": [
    "import pandas as pd\n",
    "pd.set_option('display.max_colwidth', -1)\n",
    "dataset_hashtags.head()"
   ]
  },
  {
   "cell_type": "code",
   "execution_count": 54,
   "metadata": {
    "collapsed": false
   },
   "outputs": [
    {
     "data": {
      "image/png": "[encoded data removed]",
      "text/plain": [
       "<PIL.Image.Image image mode=RGB size=400x200 at 0x1CB49080>"
      ]
     },
     "execution_count": 54,
     "metadata": {},
     "output_type": "execute_result"
    }
   ],
   "source": [
    "#Wordcloud of Tweet_Text\n",
    "WordCloud().generate(str(dataset_hashtags['Tweet_Text'])).to_image()"
   ]
  },
  {
   "cell_type": "code",
   "execution_count": 55,
   "metadata": {
    "collapsed": true
   },
   "outputs": [],
   "source": [
    "afinn = Afinn(emoticons=True)"
   ]
  },
  {
   "cell_type": "code",
   "execution_count": 56,
   "metadata": {
    "collapsed": false
   },
   "outputs": [
    {
     "data": {
      "text/plain": [
       "-63.0"
      ]
     },
     "execution_count": 56,
     "metadata": {},
     "output_type": "execute_result"
    }
   ],
   "source": [
    "#The text analysis tells us the people are talking negatively of the elections and is against donald trump.\n",
    "#The negative score tells us about people behaviour. Also, the sentiments of each user could be analysed which helped me to understand the python package working\n",
    "afinn_scores=afinn.score(str(dataset_hashtags.Tweet_Text))\n",
    "afinn_scores"
   ]
  },
  {
   "cell_type": "code",
   "execution_count": 57,
   "metadata": {
    "collapsed": false
   },
   "outputs": [],
   "source": [
    "afinn_scores = [afinn.score(Tweet_Text) for Tweet_Text in dataset_hashtags.Tweet_Text]"
   ]
  },
  {
   "cell_type": "code",
   "execution_count": 58,
   "metadata": {
    "collapsed": false
   },
   "outputs": [],
   "source": [
    "dataset_hashtags['afinn']=afinn_scores"
   ]
  },
  {
   "cell_type": "code",
   "execution_count": 59,
   "metadata": {
    "collapsed": false
   },
   "outputs": [],
   "source": [
    "#afinn represents the sentiment score, sentiment is the positive or negative emotions and the text on which it applies.\n",
    "for i in dataset_hashtags['afinn']:\n",
    "    if (i==0):\n",
    "        dataset_hashtags['sentiment']= 'Neutral'\n",
    "\n",
    "    elif (i>0):\n",
    "        dataset_hashtags['sentiment']='Positive'\n",
    "\n",
    "    elif (i<0):\n",
    "        dataset_hashtags['sentiment']='Negative'"
   ]
  },
  {
   "cell_type": "code",
   "execution_count": 62,
   "metadata": {
    "collapsed": false
   },
   "outputs": [
    {
     "data": {
      "text/html": [
       "<div>\n",
       "<table border=\"1\" class=\"dataframe\">\n",
       "  <thead>\n",
       "    <tr style=\"text-align: right;\">\n",
       "      <th></th>\n",
       "      <th>sentiment</th>\n",
       "      <th>afinn</th>\n",
       "      <th>Tweet_Text</th>\n",
       "    </tr>\n",
       "  </thead>\n",
       "  <tbody>\n",
       "    <tr>\n",
       "      <th>0</th>\n",
       "      <td>Negative</td>\n",
       "      <td>-2.0</td>\n",
       "      <td>trump s extremist bigotry against muslims is now the moderate gop position</td>\n",
       "    </tr>\n",
       "    <tr>\n",
       "      <th>1</th>\n",
       "      <td>Negative</td>\n",
       "      <td>-2.0</td>\n",
       "      <td>defend flag burners at  demand the charges be dropped  donate to cover court costs   https</td>\n",
       "    </tr>\n",
       "    <tr>\n",
       "      <th>2</th>\n",
       "      <td>Negative</td>\n",
       "      <td>0.0</td>\n",
       "      <td>trump adult film cameo unearthed by buzzfeed</td>\n",
       "    </tr>\n",
       "    <tr>\n",
       "      <th>3</th>\n",
       "      <td>Negative</td>\n",
       "      <td>0.0</td>\n",
       "      <td>vote  painted on black church set ablaze in</td>\n",
       "    </tr>\n",
       "    <tr>\n",
       "      <th>4</th>\n",
       "      <td>Negative</td>\n",
       "      <td>0.0</td>\n",
       "      <td>trump adult film cameo unearthed by buzzfeed</td>\n",
       "    </tr>\n",
       "    <tr>\n",
       "      <th>5</th>\n",
       "      <td>Negative</td>\n",
       "      <td>-4.0</td>\n",
       "      <td>in disastrous interview  mike pence flees from his own running mate donald trump    https</td>\n",
       "    </tr>\n",
       "    <tr>\n",
       "      <th>6</th>\n",
       "      <td>Negative</td>\n",
       "      <td>0.0</td>\n",
       "      <td>is that the land i m beginning to feel slide        of gop</td>\n",
       "    </tr>\n",
       "    <tr>\n",
       "      <th>7</th>\n",
       "      <td>Negative</td>\n",
       "      <td>0.0</td>\n",
       "      <td>ananavarro rips another  lapdog    donlemon  cnn</td>\n",
       "    </tr>\n",
       "    <tr>\n",
       "      <th>8</th>\n",
       "      <td>Negative</td>\n",
       "      <td>0.0</td>\n",
       "      <td>trump campaign confessed to  three major voter suppression operations      https</td>\n",
       "    </tr>\n",
       "    <tr>\n",
       "      <th>9</th>\n",
       "      <td>Negative</td>\n",
       "      <td>7.0</td>\n",
       "      <td>will win the popular vote by more than   million  the electoral college needs to go</td>\n",
       "    </tr>\n",
       "  </tbody>\n",
       "</table>\n",
       "</div>"
      ],
      "text/plain": [
       "  sentiment  afinn  \\\n",
       "0  Negative -2.0     \n",
       "1  Negative -2.0     \n",
       "2  Negative  0.0     \n",
       "3  Negative  0.0     \n",
       "4  Negative  0.0     \n",
       "5  Negative -4.0     \n",
       "6  Negative  0.0     \n",
       "7  Negative  0.0     \n",
       "8  Negative  0.0     \n",
       "9  Negative  7.0     \n",
       "\n",
       "                                                                                       Tweet_Text  \n",
       "0    trump s extremist bigotry against muslims is now the moderate gop position                    \n",
       "1    defend flag burners at  demand the charges be dropped  donate to cover court costs   https    \n",
       "2    trump adult film cameo unearthed by buzzfeed                                                  \n",
       "3     vote  painted on black church set ablaze in                                                  \n",
       "4    trump adult film cameo unearthed by buzzfeed                                                  \n",
       "5    in disastrous interview  mike pence flees from his own running mate donald trump    https     \n",
       "6    is that the land i m beginning to feel slide        of gop                                    \n",
       "7     ananavarro rips another  lapdog    donlemon  cnn                                             \n",
       "8    trump campaign confessed to  three major voter suppression operations      https              \n",
       "9     will win the popular vote by more than   million  the electoral college needs to go          "
      ]
     },
     "execution_count": 62,
     "metadata": {},
     "output_type": "execute_result"
    }
   ],
   "source": [
    "dataset_hashtags[['sentiment','afinn','Tweet_Text']].head(10)"
   ]
  }
 ],
 "metadata": {
  "kernelspec": {
   "display_name": "Python 2",
   "language": "python",
   "name": "python2"
  },
  "language_info": {
   "codemirror_mode": {
    "name": "ipython",
    "version": 2
   },
   "file_extension": ".py",
   "mimetype": "text/x-python",
   "name": "python",
   "nbconvert_exporter": "python",
   "pygments_lexer": "ipython2",
   "version": "2.7.11"
  }
 },
 "nbformat": 4,
 "nbformat_minor": 0
}
